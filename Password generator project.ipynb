{
 "cells": [
  {
   "cell_type": "code",
   "execution_count": 3,
   "id": "d443115e",
   "metadata": {},
   "outputs": [
    {
     "name": "stdout",
     "output_type": "stream",
     "text": [
      "Welcome to password generator !\n",
      "How many letters do you want in your password\n",
      "4\n",
      "How many numbers do you want in your password\n",
      "4\n",
      "How many symbols do you want in your password\n",
      "3\n",
      "['L', 'L', 'n', 'j', '1', '1', '0', '9', '#', '`', '{']\n",
      "your password is: #n91Lj1L0`{\n"
     ]
    }
   ],
   "source": [
    "import random\n",
    "\n",
    "letters = ['a', 'b', 'c', 'd', 'e', 'f', 'g', 'h', 'i', 'j', 'k', 'l', 'm', 'n', 'o', 'p', 'q', 'r',\n",
    " 's', 't', 'u', 'v', 'w', 'x', 'y', 'z', 'A', 'B', 'C', 'D', 'E', 'F', 'G', 'H', 'I', 'J',\n",
    " 'K', 'L', 'M', 'N', 'O', 'P', 'Q', 'R', 'S', 'T', 'U', 'V', 'W', 'X', 'Y', 'Z']\n",
    "\n",
    "numbers = ['0', '1', '2', '3', '4', '5', '6', '7', '8', '9']\n",
    "symbols = ['!', '@', '#', '$', '%', '^', '&', '*', '(', ')', '-', '_', '=', '+', '[', ']', '{', '}', ';', ':', \"'\", '\"', ',', '<', '>', '.', '/', '?', '\\\\', '|', '`', '~']\n",
    "\n",
    "print(\"Welcome to password generator !\")\n",
    "\n",
    "n_letters = int(input(\"How many letters do you want in your password\\n\"))\n",
    "n_numbers = int(input(\"How many numbers do you want in your password\\n\"))\n",
    "n_symbols = int(input(\"How many symbols do you want in your password\\n\"))\n",
    "password_list=[]\n",
    "\n",
    "for i in range(1,n_letters+1):\n",
    "    password_list.append(random.choice(letters))\n",
    "for i in range(1,n_numbers+1):\n",
    "    password_list.append(random.choice(numbers))\n",
    "for i in range(1,n_symbols+1):\n",
    "    password_list.append(random.choice(symbols))\n",
    "print(password_list)\n",
    "\n",
    "# Shuffle the password list to randomize the order of characters\n",
    "random.shuffle(password_list)\n",
    "\n",
    "password =''\n",
    "\n",
    "for i in password_list:\n",
    "    password+=i\n",
    "    \n",
    "print(f'your password is: {password}')\n"
   ]
  },
  {
   "cell_type": "code",
   "execution_count": null,
   "id": "9e8ee056",
   "metadata": {},
   "outputs": [],
   "source": []
  }
 ],
 "metadata": {
  "kernelspec": {
   "display_name": "Python 3 (ipykernel)",
   "language": "python",
   "name": "python3"
  },
  "language_info": {
   "codemirror_mode": {
    "name": "ipython",
    "version": 3
   },
   "file_extension": ".py",
   "mimetype": "text/x-python",
   "name": "python",
   "nbconvert_exporter": "python",
   "pygments_lexer": "ipython3",
   "version": "3.9.12"
  }
 },
 "nbformat": 4,
 "nbformat_minor": 5
}
